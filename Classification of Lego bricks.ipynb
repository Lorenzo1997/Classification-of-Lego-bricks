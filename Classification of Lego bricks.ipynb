{
 "cells": [
  {
   "cell_type": "markdown",
   "id": "6e883a8b",
   "metadata": {},
   "source": [
    "# Classification of Lego bricks: classificazione di blocchi Lego in diverse posizioni\n",
    "&nbsp;\n",
    "### Laure magistrale in ingegneria e scienze informatiche\n",
    "### Progetto di Fondamenti di Machine learning\n",
    "### Docente: Marco Cristiani\n",
    "### Anno accademico: 2023-2024\n",
    "&nbsp;\n",
    "##### Autore: Lorenzo Genghini\n",
    "##### Matricola: VR463396"
   ]
  },
  {
   "cell_type": "markdown",
   "id": "e1d41a06-8862-4f85-962d-cd82bb19375f",
   "metadata": {},
   "source": [
    "### Indice del notebook:\n",
    "1. Introduzione\n",
    "\n",
    "    * Librerie utilizzate\n",
    "\n",
    "2. Dataset\n",
    "\n",
    "    * Ridimensionamento e conversione in scala di grigi\n",
    "\n",
    "    * Caricamento del dataset di Training e Testing\n",
    "\n",
    "3. Linear discriminant analysis (LDA)\n",
    "\n",
    "    * Estrazione delle features\n",
    "\n",
    "    * Riduzione della dimensionalità\n",
    "\n",
    "4. Classificazione\n",
    "\n",
    "    * KNN (K-Nearest Neighbor)\n",
    "\n",
    "    * SVM (Support vector machines)\n",
    "5. Conclusioni\n",
    "\n",
    "    * Blocchi Lego classificati meglio e peggio\n",
    "\n",
    "    * Progetti futuri"
   ]
  },
  {
   "cell_type": "markdown",
   "id": "7763a63f-a591-4cc2-98fa-f0fa9cf8aafd",
   "metadata": {},
   "source": [
    "## 1 Introduzione\n",
    "In questo progetto si eseguirà la classificazione di differenti blocchi Lego andando da prima ad estrarre le features e ridurre la dimensionalità dei dati di training e poi in seguito ad eseguire la classificazione dei campioni di testing utilizzando l’algoritmo K-Nearest Neighbor (KNN) con differenti valori per K (3, 5 e 7) e l’algoritmo Support vector machines (SVM) con differenti tipi di kernel (lineare, polinomiale e Radial Basis Function (RBF)).\n",
    "\n",
    "Come risultato, vorrei capire se questi due algoritmi selezionati per la classificazione sono adatti a identificare i diversi blocchi Lego e se possono essere impiegati in ambito lavorativo."
   ]
  },
  {
   "cell_type": "markdown",
   "id": "38f8744b-c562-4be6-92ed-f5e236191316",
   "metadata": {},
   "source": [
    "#### 1.1 Librerie utilizzate\n",
    "Le librerie utilizzate all’interno di questo progetto sono le seguenti:\n",
    "* os, utile per trovare le directory \n",
    "* numpy, utile per fare calcoli matematici e creare array\n",
    "* Image, utile per lavorare con le immagini\n",
    "* matplotlib.pyplot, utile per creare grafici\n",
    "* sklearn, utile per implementare gli algoritmi LDA, KNN e SVM e stampare i risultati ottenuti con la classificazione."
   ]
  },
  {
   "cell_type": "code",
   "execution_count": 1,
   "id": "bce2488c-2f4d-4563-a964-8a413e73515c",
   "metadata": {},
   "outputs": [],
   "source": [
    "# Importo le librerie utilizzate per il caricamento dei campioni\n",
    "import os\n",
    "import numpy as np\n",
    "from PIL import Image\n",
    "\n",
    "# Importo le librerie utilizzate per eseguire LDA e stampare i dati ottenuti\n",
    "from sklearn.discriminant_analysis import LinearDiscriminantAnalysis\n",
    "import matplotlib.pyplot as plt\n",
    "\n",
    "# Importo le librerie utilizzata per stampare i dati ottenuti con la classificazione\n",
    "from sklearn.metrics import classification_report, confusion_matrix\n",
    "\n",
    "# Importo la libreria utilizzata per eseguire KNN\n",
    "from sklearn.neighbors import KNeighborsClassifier\n",
    "\n",
    "# Importo la libreria utilizzata per eseguire SVM\n",
    "from sklearn import svm"
   ]
  },
  {
   "cell_type": "markdown",
   "id": "f9f08dd1-d3da-4ea1-a8da-dc18e42c1e29",
   "metadata": {},
   "source": [
    "## 2 Dataset\n",
    "Il dataset utilizzato per la realizzazione di questo progetto si chiama “Images of LEGO Bricks” ed è stato preso dal sito web Kaggle. Esso, è formato da diversi blocchi Lego fotografati in differenti posizioni."
   ]
  },
  {
   "cell_type": "markdown",
   "id": "58cea703-cee0-4ece-bd23-4e71ba04cdbf",
   "metadata": {},
   "source": [
    "Di seguito vado a verificare che nella cartella del dataset siano presenti le sottocartelle di train e test"
   ]
  },
  {
   "cell_type": "code",
   "execution_count": 2,
   "id": "28c1b62e-314e-4b08-9f4d-1d36fc1a71a8",
   "metadata": {},
   "outputs": [
    {
     "name": "stdout",
     "output_type": "stream",
     "text": [
      "Sottocartelle:\n",
      "['Test', 'Train']\n"
     ]
    }
   ],
   "source": [
    "# Definisco il percorso del dataset\n",
    "root_path = \"Lego_Bricks_Dataset\"\n",
    "\n",
    "# Verifico che il dataset sia suddiviso in train e test\n",
    "subdirs = os.listdir(root_path)\n",
    "\n",
    "# Stampo le cartelle trovate nella directory\n",
    "print(\"Sottocartelle:\")\n",
    "print(subdirs)\n",
    "\n",
    "# Elimino gli oggetti non più necessari\n",
    "del subdirs"
   ]
  },
  {
   "cell_type": "markdown",
   "id": "c162f9d5-fa91-4c12-862e-7a00eb702602",
   "metadata": {},
   "source": [
    "#### 2.1 Ridimensionamento e conversione in scala di grigi\n",
    "Per prima cosa creo la funzione che conta il numero delle immagini presenti nel dataset "
   ]
  },
  {
   "cell_type": "code",
   "execution_count": 3,
   "id": "8aa530c9-5b05-42cd-8d9c-398c7a367480",
   "metadata": {},
   "outputs": [],
   "source": [
    "def image_counter(dirpath):\n",
    "    n_images = 0\n",
    "\n",
    "    # Conto tutte le immagini presenti nella directory selezionata\n",
    "    for _, _, filenames in os.walk(root_path + os.path.sep + dirpath):\n",
    "        n_images += len(filenames)\n",
    "\n",
    "    return n_images"
   ]
  },
  {
   "cell_type": "markdown",
   "id": "d055091f-3c3e-44bd-9d6b-f3b7f3e039b0",
   "metadata": {},
   "source": [
    "Dopo di che creo la funzione che carica i dati di ogni partizione del dataset in due vettori:\n",
    "* il **samples_vector** che contiene le immagini e ha una dimensione uguale al _numero delle features_ per il _numero dei campioni_\n",
    "* il **labels_vector** che contiene le classi delle immagini e ha una dimensione uguale al _numero dei campioni_.\n",
    "\n",
    "In oltre, tutte le immagini vengono ridimensionate alla dimensione image_shape per renderle uniformi e i pixel sono convertiti in scala di grigi nel range 0..1, così da avere una riduzione della dimensionalità per questioni di performance e rendere la classificazione indipendente dal colore.\n",
    "\n",
    "**Tabella delle labels**\n",
    "|Valore|Classe|\n",
    "|:---:|:---|\n",
    "|0|blocco 1x1|\n",
    "|1|blocco 1x2|\n",
    "|2|blocco 2x2|\n",
    "|3|blocco con frizione e asse incrociato 2m|\n",
    "|4|blocco ad angolo 1x2x2|\n",
    "|5|blocco piatto liscio 1x2|\n",
    "|6|blocco a piolo 2m|\n",
    "|7|blocco piatto 1x1|\n",
    "|8|blocco piatto 1x2|\n",
    "|9|blocco piatto 2x2|\n",
    "|10|blocco piatto con pomello 1X2|\n",
    "|11|blocco tetto tegola 1x2|\n",
    "|12|blocco tecnico leva 3m|"
   ]
  },
  {
   "cell_type": "code",
   "execution_count": 4,
   "id": "6204b19c-4213-43f1-b3d8-60064d29d783",
   "metadata": {},
   "outputs": [],
   "source": [
    "def image_loader(dirpath, image_shape):\n",
    "    \n",
    "    # Identifico il numero di immagini nella directory selezionata\n",
    "    n_images = image_counter(dirpath)\n",
    "\n",
    "    # Vettore che conterrà i campioni\n",
    "    samples_vector = np.zeros((image_shape[0] * image_shape[1], n_images), dtype=\"float32\")\n",
    "    # Vettore che conterrà la classe dei campioni\n",
    "    labels_vector = np.zeros(n_images, dtype=\"uint8\")\n",
    "\n",
    "    # Variabile che tiene il conteggio della colonna a cui si è arrivati\n",
    "    column_index = 0\n",
    "\n",
    "    for subdirpath, _, filenames in os.walk(root_path + os.path.sep + dirpath):\n",
    "        # Prelevo i nomi delle cartelle presenti in \"dirpath\"\n",
    "        label_string = subdirpath.split(os.path.sep)[-1]\n",
    "\n",
    "        # Assegno una label a ciascuna classe nel mio dataset\n",
    "        if label_string == \"brick_1x1\":\n",
    "            label = 0\n",
    "        elif label_string == \"brick_1x2\":\n",
    "            label = 1\n",
    "        elif label_string == \"brick_2x2\":\n",
    "            label = 2\n",
    "        elif label_string == \"brick_bush_friction_with_cross_axle_2m\":\n",
    "            label = 3\n",
    "        elif label_string == \"brick_corner_1x2x2\":\n",
    "            label = 4\n",
    "        elif label_string == \"brick_flat_tile_1x2\":\n",
    "            label = 5\n",
    "        elif label_string == \"brick_peg_2m\":\n",
    "            label = 6\n",
    "        elif label_string == \"brick_plate_1x1\":\n",
    "            label = 7\n",
    "        elif label_string == \"brick_plate_1x2\":\n",
    "            label = 8\n",
    "        elif label_string == \"brick_plate_2x2\":\n",
    "            label = 9\n",
    "        elif label_string == \"brick_plate_knob_1X2\":\n",
    "            label = 10\n",
    "        elif label_string == \"brick_roof_tile_1x2\":\n",
    "            label = 11\n",
    "        elif label_string == \"brick_technic_lever_3m\":\n",
    "            label = 12\n",
    "\n",
    "        # Controllo che la label non corrisponda al dirpath \n",
    "        if label_string != dirpath:\n",
    "            for file in filenames:\n",
    "                # Apro un immagine\n",
    "                img = Image.open(subdirpath + os.path.sep + file)\n",
    "                \n",
    "                # Ridimensiono l'immagine e la converto in scala di grigi a 8-bit [0..255]\n",
    "                img = img.resize(im_shape).convert('L')\n",
    "                \n",
    "                # Converto l'immagine in un vettore colonna e scalo i dati in un range compreso tra 0..1\n",
    "                sample = (np.array(img).reshape(-1) / 255.0).astype(\"float32\")\n",
    "                \n",
    "                # Chiudo l'immagine aperta in precedenza\n",
    "                img.close()\n",
    "    \n",
    "                # Salvo il novo sample ottenuto dall'immagine scalata\n",
    "                samples_vector[:, column_index] += sample\n",
    "                # Salvo il label del sample ottenuto\n",
    "                labels_vector[column_index] += label\n",
    "\n",
    "                # Aggiorno l'indice della colonna\n",
    "                column_index += 1\n",
    "\n",
    "    # Restituisco i samples ottenuti e i relativi labels\n",
    "    return samples_vector, labels_vector"
   ]
  },
  {
   "cell_type": "markdown",
   "id": "e60dce20-bcf2-4feb-8bbd-b18fcd67f8cf",
   "metadata": {},
   "source": [
    "#### 2.2 Caricamento del dataset di Training e Testing\n",
    "A questo punto, carico i dataset di training e testing che conterranno al loro interno tredici classi rappresentanti i diversi pezzi Lego"
   ]
  },
  {
   "cell_type": "code",
   "execution_count": 5,
   "id": "ea19bc3d-76f0-4725-a5bc-32b7fa552074",
   "metadata": {},
   "outputs": [],
   "source": [
    "# Definisco la risoluzione che dovranno avere le immagini\n",
    "im_shape = (100, 100)\n",
    "\n",
    "# Calcolo il vettore dei samples e dei labels\n",
    "train_samples, train_labels = image_loader(\"Train\", im_shape)\n",
    "test_samples, test_labels = image_loader(\"Test\", im_shape)"
   ]
  },
  {
   "cell_type": "markdown",
   "id": "57587481-58b3-42f5-b521-bd0430668a3a",
   "metadata": {},
   "source": [
    "## 3 Linear discriminant analysis (LDA)\n",
    "\n",
    "La Linear Discriminant Analysis (o Fisher Discriminant Analysis) è una procedura di estrazione delle features che esegue proiezioni lineari e fornisce un grado di informazione maggiore sulle classi degli oggetti."
   ]
  },
  {
   "cell_type": "markdown",
   "id": "2a76f121-ca3e-4bd5-ad8a-a2efb80c89ba",
   "metadata": {},
   "source": [
    "#### 3.1 Estrazione delle features\n",
    "\n",
    "In questa prima sezione si andrà ad eseguire il fit del modello, cioè ad estrarre le features. L’estrazione delle features avviene utilizzando il vettore di training contenente i campioni e il vettore delle etichette."
   ]
  },
  {
   "cell_type": "code",
   "execution_count": 6,
   "id": "5d9ce0c9-3527-4c39-8a09-9be392699898",
   "metadata": {},
   "outputs": [],
   "source": [
    "# Inizializzo LDA\n",
    "lda = LinearDiscriminantAnalysis()\n",
    "\n",
    "# Eseguo LDA inserendo i samples e i labels ricavati in precedenza\n",
    "fit_samples = lda.fit(train_samples.T, train_labels)"
   ]
  },
  {
   "cell_type": "markdown",
   "id": "5ea2e1cf-2f9a-45a7-81a9-5fc020e02cc1",
   "metadata": {},
   "source": [
    "#### 3.2 Riduzione della dimensionalità\n",
    "\n",
    "A questo punto, dopo aver eseguito l’estrazione delle features, si prosegue con la proiezione dei dati su di un unico asse, così da massimizzare la distanza tra le classi (cioè la distanza tra le medie) e minimizzare la varianza di ciascuna classe (cioè avere delle classi compatte)."
   ]
  },
  {
   "cell_type": "code",
   "execution_count": 7,
   "id": "50993b11-3bd2-45ed-b551-4f15ee90185b",
   "metadata": {},
   "outputs": [],
   "source": [
    "# Eseguo la proiezione dei dati per massimizzare la separazione tra le classi\n",
    "transformed_samples = fit_samples.transform(train_samples.T)"
   ]
  },
  {
   "cell_type": "markdown",
   "id": "f5312210-1442-4d81-a56b-565b28987375",
   "metadata": {},
   "source": [
    "In fine, verifico graficamente la disposizione dei dati ottenuti."
   ]
  },
  {
   "cell_type": "code",
   "execution_count": 8,
   "id": "16066427-9a38-4100-9fb3-b304df59d17f",
   "metadata": {},
   "outputs": [
    {
     "data": {
      "image/png": "[encoded data removed]",
      "text/plain": [
       "<Figure size 1500x600 with 1 Axes>"
      ]
     },
     "metadata": {},
     "output_type": "display_data"
    }
   ],
   "source": [
    "# Setto la dimensione dell'immagine\n",
    "fig = plt.figure(figsize=(15,6))\n",
    "ax = plt.subplot()\n",
    "\n",
    "# Separo i dati di ogni classe\n",
    "transformed_brick_1x1_samples = np.squeeze(transformed_samples[train_labels == 0])\n",
    "transformed_brick_1x2_samples = np.squeeze(transformed_samples[train_labels == 1])\n",
    "transformed_brick_2x2_samples = np.squeeze(transformed_samples[train_labels == 2])\n",
    "transformed_brick_bush_friction_with_cross_axle_2m_samples = np.squeeze(transformed_samples[train_labels == 3])\n",
    "transformed_brick_corner_1x2x2_samples = np.squeeze(transformed_samples[train_labels == 4])\n",
    "transformed_brick_flat_tile_1x2_samples = np.squeeze(transformed_samples[train_labels == 5])\n",
    "transformed_brick_peg_2m_samples = np.squeeze(transformed_samples[train_labels == 6])\n",
    "transformed_brick_plate_1x1_samples = np.squeeze(transformed_samples[train_labels == 7])\n",
    "transformed_brick_plate_1x2_samples = np.squeeze(transformed_samples[train_labels == 8])\n",
    "transformed_brick_plate_2x2_samples = np.squeeze(transformed_samples[train_labels == 9])\n",
    "transformed_brick_plate_knob_1X2_samples = np.squeeze(transformed_samples[train_labels == 10])\n",
    "transformed_brick_roof_tile_1x2_samples = np.squeeze(transformed_samples[train_labels == 11])\n",
    "transformed_brick_technic_lever_3m_samples = np.squeeze(transformed_samples[train_labels == 12])\n",
    "\n",
    "# Stampo i dati di ogni classe per vederne la disposizione\n",
    "ax.scatter(transformed_brick_1x1_samples, np.full(transformed_brick_1x1_samples.size, 0), marker=\".\", label='brick 1x1', c='red')\n",
    "ax.scatter(transformed_brick_1x2_samples, np.full(transformed_brick_1x2_samples.size, -1), marker=\".\", label='brick 1x2', c='green')\n",
    "ax.scatter(transformed_brick_2x2_samples, np.full(transformed_brick_2x2_samples.size, -2), marker=\".\", label='brick 2x2', c='blue')\n",
    "ax.scatter(transformed_brick_bush_friction_with_cross_axle_2m_samples, np.full(transformed_brick_bush_friction_with_cross_axle_2m_samples.size, -3), marker=\".\", label='brick bush friction with cross axle 2m', c='gold')\n",
    "ax.scatter(transformed_brick_corner_1x2x2_samples, np.full(transformed_brick_corner_1x2x2_samples.size, -4), marker=\".\", label='brick corner 1x2x2', c='pink')\n",
    "ax.scatter(transformed_brick_flat_tile_1x2_samples, np.full(transformed_brick_flat_tile_1x2_samples.size, -5), marker=\".\", label='brick flat tile 1x2', c='black')\n",
    "ax.scatter(transformed_brick_peg_2m_samples, np.full(transformed_brick_peg_2m_samples.size, -6), marker=\".\", label='brick peg 2m', c='orange')\n",
    "ax.scatter(transformed_brick_plate_1x1_samples, np.full(transformed_brick_plate_1x1_samples.size, -7), marker=\".\", label='brick plate 1x1', c='purple')\n",
    "ax.scatter(transformed_brick_plate_1x2_samples, np.full(transformed_brick_plate_1x2_samples.size, -8), marker=\".\", label='brick plate 1x2', c='lime')\n",
    "ax.scatter(transformed_brick_plate_2x2_samples, np.full(transformed_brick_plate_2x2_samples.size, -9), marker=\".\", label='brick plate 2x2', c='brown')\n",
    "ax.scatter(transformed_brick_plate_knob_1X2_samples, np.full(transformed_brick_plate_knob_1X2_samples.size, -10), marker=\".\", label='brick plate knob 1X2', c='gray')\n",
    "ax.scatter(transformed_brick_roof_tile_1x2_samples, np.full(transformed_brick_roof_tile_1x2_samples.size, -11), marker=\".\", label='brick roof tile 1x2', c='cyan')\n",
    "ax.scatter(transformed_brick_technic_lever_3m_samples, np.full(transformed_brick_technic_lever_3m_samples.size, -12), marker=\".\", label='brick technic lever 3m', c='magenta')\n",
    "\n",
    "# Inserisco la leggenda nell'immagine\n",
    "plt.legend(loc='lower right')\n",
    "# Mostro l'immagine\n",
    "plt.show()"
   ]
  },
  {
   "cell_type": "markdown",
   "id": "d0b7d41b-1224-4c55-bcc7-6e79bf08ebc8",
   "metadata": {},
   "source": [
    "Come si può osservare dall’immagine soprastante, sono presenti diversi outliers per ciascuna classe.\n",
    "\n",
    "Di seguito vado a mostrare gli outliers più significativi."
   ]
  },
  {
   "cell_type": "code",
   "execution_count": 9,
   "id": "f3278418-99d2-49bf-a8b0-38fb2f9658d8",
   "metadata": {},
   "outputs": [
    {
     "data": {
      "text/plain": [
       "<Figure size 640x480 with 0 Axes>"
      ]
     },
     "metadata": {},
     "output_type": "display_data"
    },
    {
     "data": {
      "image/png": "[encoded data removed]",
      "text/plain": [
       "<Figure size 1200x600 with 3 Axes>"
      ]
     },
     "metadata": {},
     "output_type": "display_data"
    }
   ],
   "source": [
    "# Stampo gli outliers più significativi\n",
    "# Brick bush friction with cross axle 2m\n",
    "fake_bbfwca_2m = np.nonzero((train_labels.size) * np.squeeze(transformed_samples < -7))[0]\n",
    "# Brick flat tile 1x2\n",
    "fake_bft_1x2 = np.nonzero((train_labels.size) * np.squeeze(transformed_samples > 5.5))[0]\n",
    "# Brick peg 2m\n",
    "fake_bp_2m = np.nonzero((train_labels.size) * np.squeeze(transformed_samples > 8))[0]\n",
    "\n",
    "# Setto le immagini che stamperò in scala di grigi\n",
    "plt.set_cmap(\"gray\")\n",
    "# Setto la dimensione dell'immagine\n",
    "plt.figure(figsize=(12,6))\n",
    "\n",
    "# Inizializzo la variabile che mi indica i subplot totali\n",
    "subplot_index = 0\n",
    "# Inizializzo l'array che conterrà gli indici degli ouliers\n",
    "outliers = []\n",
    "\n",
    "# Trovo gli outliers per i brick bush friction with cross axle 2m\n",
    "for i in range(1, fake_bbfwca_2m.size + 1):\n",
    "    image_index = fake_bbfwca_2m[i-1]\n",
    "    \n",
    "    if train_labels[image_index] == 3:\n",
    "        outliers.append(image_index)\n",
    "\n",
    "# Trovo gli outliers per i brick flat tile 1x2\n",
    "for i in range(1, fake_bft_1x2.size + 1):\n",
    "    image_index = fake_bft_1x2[i-1]\n",
    "    \n",
    "    if train_labels[image_index] == 5:\n",
    "        outliers.append(image_index)\n",
    "        break\n",
    "\n",
    "# Trovo gli outliers per i brick peg 2m\n",
    "for i in range(1, fake_bp_2m.size + 1):\n",
    "    image_index = fake_bp_2m[i-1]\n",
    "    \n",
    "    if train_labels[image_index] == 6:\n",
    "        outliers.append(image_index)\n",
    "\n",
    "# Mostro gli outliers trovati e i relativi indici\n",
    "for i in range(1, len(outliers) + 1):\n",
    "    plt.subplot(1, len(outliers), i)\n",
    "    plt.title(f\"id: {outliers[i-1]}\")\n",
    "    plt.imshow(train_samples[:, outliers[i-1]].reshape(im_shape))"
   ]
  },
  {
   "cell_type": "markdown",
   "id": "828c0b1a-e0ef-43d9-a4ce-6bf434202f47",
   "metadata": {},
   "source": [
    "Gli outliers visualizzati qui sopra, come possiamo vedere, rappresentano immagini ambigue anche per l'occhio umano."
   ]
  },
  {
   "cell_type": "markdown",
   "id": "11f77c02-d254-49ae-b3ff-f181a29cd1bd",
   "metadata": {},
   "source": [
    "## 4 Classificazione\n",
    "\n",
    "La classificazione sarà eseguita con gli algoritmi _K-Nearest Neighbors_ e _Support Vector Machine_.\n",
    "\n",
    "Essa si comporrà di due fasi:\n",
    "* Nella prima, verrà eseguito l’addestramento del classificatore utilizzando i dati precedentemente ridotti di dimensionalità con LDA\n",
    "* Nella seconda, si andrà a classificare il dataset di test."
   ]
  },
  {
   "cell_type": "markdown",
   "id": "bef16f0d-aefe-46f1-8d36-4f2a5a9d9736",
   "metadata": {},
   "source": [
    "Di seguito viene riportata la funzione che stamperà i risultati ottenuti con la classificazione."
   ]
  },
  {
   "cell_type": "code",
   "execution_count": 10,
   "id": "e204748a-8d2c-45f0-85ef-0f408bf1afd3",
   "metadata": {},
   "outputs": [],
   "source": [
    "def print_report(report):\n",
    "    # Stampo l'accuracy\n",
    "    print(\"Accuracy: \" + f\"{report['accuracy']:0,.2f}\")\n",
    "    \n",
    "    # Stampo i valori di precision, recall e support\n",
    "    print(\"\\n    Precision    Recall   Support\\n\")\n",
    "    for n in range(0, 13):\n",
    "    \n",
    "        if n < 10:\n",
    "            print(f\" {n}\" + f\"       {report[str(n)]['precision']:0,.2f}\" + f\"      {report[str(n)]['recall']:0,.2f}\" + f\"       {report[str(n)]['support']:0,.0f}\")\n",
    "        else:\n",
    "            print(f\"{n}\" + f\"       {report[str(n)]['precision']:0,.2f}\" + f\"      {report[str(n)]['recall']:0,.2f}\" + f\"       {report[str(n)]['support']:0,.0f}\")\n",
    "    \n",
    "    # Stampo la matrice di confusione\n",
    "    print(\"\\nMatrice di confusione:\")\n",
    "    print(confusion_matrix(test_labels, predict_labels))\n",
    "    \n",
    "    print()\n",
    "    print(\"--------------------------------------------------------\")\n",
    "    print()"
   ]
  },
  {
   "cell_type": "markdown",
   "id": "26f40ef8-8b7c-499c-a47a-86fad3c5148c",
   "metadata": {},
   "source": [
    "#### 4.1 KNN (K-Nearest Neighbor)\n",
    "\n",
    "Il K-Nearest Neighbor (KNN) è un algoritmo che parte dall'idea che oggetti simili saranno vicini  anche nello spazio delle features. Il problema di questo approccio sta nel determinare opportunamente K."
   ]
  },
  {
   "cell_type": "markdown",
   "id": "3d7bfa5a-6c86-46c2-98ba-37ec96c77c24",
   "metadata": {},
   "source": [
    "Di seguito, implemento l’algoritmo e setto tre diversi valori per K, così da poter confrontare i risultati ottenuti e definire quale valore da il miglior risultato in fase di classificazione."
   ]
  },
  {
   "cell_type": "code",
   "execution_count": 11,
   "id": "7570809c-9e04-4aca-b323-d24c4f43a03b",
   "metadata": {},
   "outputs": [
    {
     "name": "stdout",
     "output_type": "stream",
     "text": [
      "K = 3\n",
      "Accuracy: 0.19\n",
      "\n",
      "    Precision    Recall   Support\n",
      "\n",
      " 0       0.04      0.04       400\n",
      " 1       0.08      0.07       400\n",
      " 2       0.22      0.85       400\n",
      " 3       0.92      0.95       400\n",
      " 4       0.12      0.27       400\n",
      " 5       0.02      0.01       400\n",
      " 6       0.03      0.01       400\n",
      " 7       0.48      0.10       400\n",
      " 8       0.01      0.00       400\n",
      " 9       0.03      0.04       400\n",
      "10       0.06      0.01       400\n",
      "11       0.08      0.07       400\n",
      "12       0.05      0.04       400\n",
      "\n",
      "Matrice di confusione:\n",
      "[[ 14 110  15   4  24  15   5   0  21  82  15  93   2]\n",
      " [ 14  30 156   5  95   3  11   3   5  31   3  16  28]\n",
      " [  1   4 342   0  30   0   7   0   1  15   0   0   0]\n",
      " [  0   0   0 381   0   1  16   0   0   0   2   0   0]\n",
      " [  8  18 216   0 106   1   6   0   0  32   3   3   7]\n",
      " [ 15  23 103   3 102   2   5   3   1  64   1  38  40]\n",
      " [  6  37  30   4  28  60   3  30  18  56  16  33  79]\n",
      " [240  20   0   7   1  10   0  39  15   1  17  44   6]\n",
      " [ 16  42  84   5  74   3   4   4   1  93   1  28  45]\n",
      " [ 25  38 191   0 100   0  11   0   2  15   0   7  11]\n",
      " [ 22  45  71   1  88   3   5   2   2  88   4  31  38]\n",
      " [  5  25 143   4  97   3   6   1   3  64   5  26  18]\n",
      " [  0   3 204   0 134   0  14   0   3   1   0  27  14]]\n",
      "\n",
      "--------------------------------------------------------\n",
      "\n",
      "K = 5\n",
      "Accuracy: 0.19\n",
      "\n",
      "    Precision    Recall   Support\n",
      "\n",
      " 0       0.05      0.04       400\n",
      " 1       0.06      0.06       400\n",
      " 2       0.22      0.85       400\n",
      " 3       0.92      0.94       400\n",
      " 4       0.12      0.26       400\n",
      " 5       0.03      0.01       400\n",
      " 6       0.03      0.01       400\n",
      " 7       0.46      0.10       400\n",
      " 8       0.02      0.00       400\n",
      " 9       0.03      0.04       400\n",
      "10       0.05      0.01       400\n",
      "11       0.07      0.06       400\n",
      "12       0.06      0.04       400\n",
      "\n",
      "Matrice di confusione:\n",
      "[[ 17 111  15   4  25  15   7   0  19  77  15  92   3]\n",
      " [ 12  25 153   4  94   6  13   4   4  35   4  16  30]\n",
      " [  0   4 340   0  30   0   8   0   0  16   0   0   2]\n",
      " [  0   0   0 374   0   1  24   0   0   0   1   0   0]\n",
      " [  8  19 216   0 105   1   6   1   0  32   2   3   7]\n",
      " [ 14  26  99   4 104   3   5   2   1  64   1  39  38]\n",
      " [  5  38  29   2  28  64   3  30  17  57  15  34  78]\n",
      " [241  20   0   8   0  11   0  38  14   1  17  45   5]\n",
      " [ 14  38  87   5  74   3   4   5   1  92   1  27  49]\n",
      " [ 26  35 193   0  97   0  12   0   2  18   0   6  11]\n",
      " [ 22  44  68   0  89   4   6   1   2  91   3  33  37]\n",
      " [  5  22 140   5 100   6   7   2   3  65   4  24  17]\n",
      " [  0   3 205   0 128   0  18   0   1   1   0  27  17]]\n",
      "\n",
      "--------------------------------------------------------\n",
      "\n",
      "K = 7\n",
      "Accuracy: 0.19\n",
      "\n",
      "    Precision    Recall   Support\n",
      "\n",
      " 0       0.04      0.04       400\n",
      " 1       0.06      0.06       400\n",
      " 2       0.22      0.85       400\n",
      " 3       0.92      0.94       400\n",
      " 4       0.12      0.26       400\n",
      " 5       0.03      0.01       400\n",
      " 6       0.02      0.01       400\n",
      " 7       0.48      0.10       400\n",
      " 8       0.01      0.00       400\n",
      " 9       0.04      0.05       400\n",
      "10       0.05      0.01       400\n",
      "11       0.07      0.06       400\n",
      "12       0.05      0.04       400\n",
      "\n",
      "Matrice di confusione:\n",
      "[[ 15 119  14   3  22  16   5   0  18  78  16  89   5]\n",
      " [ 11  24 155   5  94   3  13   5   5  34   2  17  32]\n",
      " [  0   2 342   0  30   0   8   0   0  16   0   0   2]\n",
      " [  0   0   0 374   0   1  25   0   0   0   0   0   0]\n",
      " [  7  20 217   0 104   1   6   1   0  31   2   3   8]\n",
      " [ 13  26  99   4 100   3   5   3   1  66   2  37  41]\n",
      " [  3  37  29   3  27  59   2  28  21  56  14  36  85]\n",
      " [239  21   0   8   0  12   0  40  13   2  16  44   5]\n",
      " [ 14  34  84   5  74   5   5   4   1  93   1  31  49]\n",
      " [ 26  32 192   0  96   0  11   0   2  20   0   9  12]\n",
      " [ 22  39  71   0  91   4   5   1   2  91   3  32  39]\n",
      " [  7  24 141   4  94   5  13   2   4  64   4  23  15]\n",
      " [  0   2 205   0 128   0  18   0   1   2   0  27  17]]\n",
      "\n",
      "--------------------------------------------------------\n",
      "\n"
     ]
    }
   ],
   "source": [
    "# Assegno un nome più significativo ai campioni di train \n",
    "transformed_samples_train = transformed_samples\n",
    "\n",
    "# Eseguo la proiezione dei campioni di test\n",
    "transformed_samples_test = lda.transform(test_samples.T)\n",
    "\n",
    "# Setto i valori che può assumere K\n",
    "k_values = [3, 5, 7]\n",
    "# Eseguo la classificazione con KNN\n",
    "for k in k_values:\n",
    "    # Inizializzo KNN\n",
    "    KNN = KNeighborsClassifier(n_neighbors=k)\n",
    "    # Eseguo KNN\n",
    "    classifier_KNN = KNN.fit(transformed_samples_train, train_labels)\n",
    "    # Eseguo la predizione sui campioni di test\n",
    "    predict_labels = classifier_KNN.predict(transformed_samples_test)\n",
    "\n",
    "    # Stampo il valore di K con cui ho eseguito la classificazione\n",
    "    print(f\"K = {k}\")\n",
    "    # Trasformo il report di classificazione in un dizionario per formattare i dati a mio piacimento\n",
    "    print_report(classification_report(test_labels, predict_labels, output_dict=True))"
   ]
  },
  {
   "cell_type": "markdown",
   "id": "0a835b6a-dd2a-4680-af98-10180e1ae45e",
   "metadata": {},
   "source": [
    "Da come si può osservare dai risultati qui sopra riportati, per tutti e tre i valori di K si ha un accuratezza nella classificazione pari a 0,19. D’altra parte però, confrontando i dati della precision, recall  e matrice di confusione si può osservare che solamente per K uguale a 3 la classificazione dei campioni di test è leggermente più ottimale."
   ]
  },
  {
   "cell_type": "markdown",
   "id": "129938c7-3d87-4ffc-aa3c-e91d77aebad1",
   "metadata": {},
   "source": [
    "#### 4.2 SVM (Support vector machines)\n",
    "\n",
    "Le Support Vector Machines (SVM) sono dei modelli di apprendimento supervisionato con l’obbiettivo di trovare un iperpiano che separa i dati di una classe da quelli di un’altra."
   ]
  },
  {
   "cell_type": "markdown",
   "id": "accbc1dd-2e9c-498b-880a-b1bb1415cf82",
   "metadata": {},
   "source": [
    "Di seguito, implemento l’algoritmo e setto tre diversi kernel, così da poter confrontare i risultati ottenuti e definire quale kernel da il miglior risultato in fase di classificazione.\n",
    "\n",
    "I Kernel utilizzati per la classificazione sono i seguenti:\n",
    "* Lineare\n",
    "* Polinomiale, che ha il grado del polinomio impostato a 3 di default\n",
    "* Radial Basis Function (RBF), che ha la larghezza del kernel impostata a '_scale_' di default (_1 / (numero delle features * varianza dei campioni)_)."
   ]
  },
  {
   "cell_type": "code",
   "execution_count": 12,
   "id": "d161cee3-779e-4618-8d62-2adb0fb1f4a7",
   "metadata": {},
   "outputs": [
    {
     "name": "stdout",
     "output_type": "stream",
     "text": [
      "Kernel = linear\n",
      "Accuracy: 0.17\n",
      "\n",
      "    Precision    Recall   Support\n",
      "\n",
      " 0       0.02      0.02       400\n",
      " 1       0.08      0.10       400\n",
      " 2       0.22      0.83       400\n",
      " 3       0.82      0.90       400\n",
      " 4       0.12      0.17       400\n",
      " 5       0.04      0.01       400\n",
      " 6       0.02      0.01       400\n",
      " 7       0.16      0.08       400\n",
      " 8       0.09      0.01       400\n",
      " 9       0.03      0.04       400\n",
      "10       0.06      0.01       400\n",
      "11       0.04      0.02       400\n",
      "12       0.06      0.04       400\n",
      "\n",
      "Matrice di confusione:\n",
      "[[  9 121  27   6  31  14  11   0  17  75  13  71   5]\n",
      " [ 22  38 138  16  51   6  47  29   3  20   5  12  13]\n",
      " [  2   4 334   9   5   0  17   1   0  16   0   0  12]\n",
      " [  0   0   0 359   0   1  32   0   0   0   8   0   0]\n",
      " [  9  32 212   2  66   2  42  14   1   9   2   5   4]\n",
      " [ 20  39 105   1  77   5  13  21   2  64   4  25  24]\n",
      " [  8  33  31   5  21  61   6  46  19  46  11  24  89]\n",
      " [223  44   0   7   0   9   0  32  12   1  18  49   5]\n",
      " [ 26  50  75  11  60   5   6  13   6  81   8  24  35]\n",
      " [ 24  49 177   6  66   3  34   3   3  16   3   7   9]\n",
      " [ 37  50  72   2  64   5   9  11   3  93   5  21  28]\n",
      " [ 14  27 138  11  68   6  32  15   2  60   4   9  14]\n",
      " [  2   3 202   4  53   0 101  10   1   6   4   0  14]]\n",
      "\n",
      "--------------------------------------------------------\n",
      "\n",
      "Kernel = poly\n",
      "Accuracy: 0.17\n",
      "\n",
      "    Precision    Recall   Support\n",
      "\n",
      " 0       0.03      0.03       400\n",
      " 1       0.06      0.07       400\n",
      " 2       0.23      0.66       400\n",
      " 3       0.90      0.89       400\n",
      " 4       0.12      0.27       400\n",
      " 5       0.03      0.01       400\n",
      " 6       0.03      0.01       400\n",
      " 7       0.25      0.07       400\n",
      " 8       0.02      0.00       400\n",
      " 9       0.08      0.13       400\n",
      "10       0.01      0.00       400\n",
      "11       0.08      0.07       400\n",
      "12       0.04      0.02       400\n",
      "\n",
      "Matrice di confusione:\n",
      "[[ 12 119  23   2  37  18   9   0  12  78  10  77   3]\n",
      " [ 27  29 100   4  81   5  32  18   4  57   7  20  16]\n",
      " [  2  57 264   1  30   0  21   0   0  23   0   0   2]\n",
      " [  0   0   0 355   0   2  32   0   0   0  11   0   0]\n",
      " [ 21  52 142   1 107   0  16   7   0  45   2   4   3]\n",
      " [ 15  31  88   4 103   4  12   9   2  74   2  37  19]\n",
      " [  3  34  26   5  30  64   6  35  12  57  12  30  86]\n",
      " [240  31   0   7   2  10   0  28  10   2  18  46   6]\n",
      " [ 33  46  64   6  86   5  12   6   1  90   1  25  25]\n",
      " [ 37  55 126   1  89   3  18   2   3  53   0   7   6]\n",
      " [ 30  40  54   3  99   6   9   4   2  98   1  33  21]\n",
      " [ 17  26 102   4  94   6  18   4   5  78   4  27  15]\n",
      " [ 10   0 147   0 121   5  40   0   1  21   1  46   8]]\n",
      "\n",
      "--------------------------------------------------------\n",
      "\n",
      "Kernel = rbf\n",
      "Accuracy: 0.16\n",
      "\n",
      "    Precision    Recall   Support\n",
      "\n",
      " 0       0.02      0.01       400\n",
      " 1       0.09      1.00       400\n",
      " 2       0.00      0.00       400\n",
      " 3       1.00      0.89       400\n",
      " 4       0.64      0.05       400\n",
      " 5       0.00      0.00       400\n",
      " 6       0.21      0.03       400\n",
      " 7       0.80      0.03       400\n",
      " 8       0.00      0.00       400\n",
      " 9       0.00      0.00       400\n",
      "10       0.00      0.00       400\n",
      "11       0.00      0.00       400\n",
      "12       0.00      0.00       400\n",
      "\n",
      "Matrice di confusione:\n",
      "[[  5 306  19   0   7   4  11   0   1  10   1  35   1]\n",
      " [  0 400   0   0   0   0   0   0   0   0   0   0   0]\n",
      " [  0 400   0   0   0   0   0   0   0   0   0   0   0]\n",
      " [  0   0   0 357   0   2  32   0   0   0   9   0   0]\n",
      " [  0 379   0   0  21   0   0   0   0   0   0   0   0]\n",
      " [  0 397   1   0   1   0   0   0   0   0   0   1   0]\n",
      " [  3 298   3   0   2  35  13   3   4   2   4  16  17]\n",
      " [201  89   0   1   0  18   3  12  10   1  10  52   3]\n",
      " [  0 397   2   0   1   0   0   0   0   0   0   0   0]\n",
      " [  0 400   0   0   0   0   0   0   0   0   0   0   0]\n",
      " [  0 396   1   0   1   0   2   0   0   0   0   0   0]\n",
      " [  0 397   2   0   0   0   0   0   0   1   0   0   0]\n",
      " [  0 400   0   0   0   0   0   0   0   0   0   0   0]]\n",
      "\n",
      "--------------------------------------------------------\n",
      "\n"
     ]
    }
   ],
   "source": [
    "# Assegno un nome più significativo ai campioni di train \n",
    "transformed_samples_train = transformed_samples\n",
    "\n",
    "# Eseguo la proiezione dei campioni di test\n",
    "transformed_samples_test = lda.transform(test_samples.T)\n",
    "\n",
    "# Setto i kernel che utilizzerò per eseguire la classificazione\n",
    "kernel_svm = ['linear', 'poly', 'rbf']\n",
    "# Eseguo la classificazione con SVM\n",
    "for k in kernel_svm:\n",
    "    # Inizializzo SVM\n",
    "    SVM = svm.SVC(kernel=k)\n",
    "    # Eseguo SVM\n",
    "    classifier_SVM = SVM.fit(transformed_samples_train, train_labels)\n",
    "    # Eseguo la predizione sui campioni di test\n",
    "    predict_labels = classifier_SVM.predict(transformed_samples_test)\n",
    "\n",
    "    # Stampo il kernel che sto usando per eseguire la classificazione\n",
    "    print(f\"Kernel = {k}\")\n",
    "    # Trasformo il report di classificazione in un dizionario per formattare i dati a mio piacimento\n",
    "    print_report(classification_report(test_labels, predict_labels, output_dict=True))"
   ]
  },
  {
   "cell_type": "markdown",
   "id": "a780a753-878c-49b1-b0d1-bec12e4f54d3",
   "metadata": {},
   "source": [
    "Da come si può osservare dai risultati qui sopra riportati, utilizzando il kernel lineare e polinomiale si ha un’accuratezza migliore in fase di classificazione pari a 0,17. D’altra parte però, confrontando i dati della precision, recall  e matrice di confusione si può osservare che solamente il kernel lineare garantisce una classificazione dei campioni di test leggermente più ottimale."
   ]
  },
  {
   "cell_type": "markdown",
   "id": "6e055760-0a87-48f1-bbee-a8894fd28b10",
   "metadata": {},
   "source": [
    "## 5 Conclusioni\n",
    "Come si può osservare dal progetto svolto, la classificazione dei blocchi Lego avviene in maniera più ottimale sfruttando l’algoritmo K-Nearest Neighbor (KNN) con un valore per K uguale a 3. Invece, per quanto riguarda l’algoritmo Support vector machines (SVM), si è visto che la classificazione con esso non è molto ottimale e peggiora utilizzando un kernel Radial Basis Function (RBF)."
   ]
  },
  {
   "cell_type": "markdown",
   "id": "a64f3c77-6cf3-4105-9ce5-da267d230a46",
   "metadata": {},
   "source": [
    "#### 5.1 Blocchi Lego classificati meglio e peggio\n",
    "\n",
    "Il blocco Lego classificato meglio in fase di test da entrambi gli algoritmi è stato: \n",
    "* il \"_blocco con frizione e asse incrociato 2m_\".\n",
    " \n",
    "Invece, i blocchi Lego classificati peggio per KNN sono stati:\n",
    "* il \"_blocco piatto 1x2_\" che è stato identificato più volte come \"_blocco piatto 2x2_\"\n",
    "\n",
    "e per SVM:\n",
    "* il \"_blocco piatto liscio 1x2_\" che è stato identificato più volte come \"_blocco 2x2_\"\n",
    "* il \"_blocco piatto con pomello 1X2_\" che è stato identificato più volte come \"_blocco piatto 2x2_\"."
   ]
  },
  {
   "cell_type": "markdown",
   "id": "075fa994-59b6-4310-8245-b6614e665317",
   "metadata": {},
   "source": [
    "#### 5.2 Progetti futuri\n",
    "In conclusione, sarebbe opportuno cercare un algoritmo di classificazione più ottimale per i blocchi Lego, così da ottenere un miglior riconoscimento di questi ultimi e ridurre al minimo la possibilità di errore in fase di classificazione. Inoltre, questa ottimizzazione potrebbe tornare utile in ambito lavorativo per riconoscere i diversi tipi di blocchi Lego e separarli correttamente gli uni dagli altri."
   ]
  }
 ],
 "metadata": {
  "kernelspec": {
   "display_name": "Python 3 (ipykernel)",
   "language": "python",
   "name": "python3"
  },
  "language_info": {
   "codemirror_mode": {
    "name": "ipython",
    "version": 3
   },
   "file_extension": ".py",
   "mimetype": "text/x-python",
   "name": "python",
   "nbconvert_exporter": "python",
   "pygments_lexer": "ipython3",
   "version": "3.11.5"
  }
 },
 "nbformat": 4,
 "nbformat_minor": 5
}
